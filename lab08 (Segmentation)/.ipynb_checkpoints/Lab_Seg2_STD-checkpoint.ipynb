{
 "cells": [
  {
   "cell_type": "markdown",
   "metadata": {},
   "source": [
    "# Lab Segmentation 2"
   ]
  },
  {
   "cell_type": "code",
   "execution_count": 1,
   "metadata": {},
   "outputs": [],
   "source": [
    "from commonfunctions import *\n",
    "%matplotlib inline\n",
    "%load_ext autoreload\n",
    "%autoreload 2\n",
    "import skimage.io as io\n",
    "import numpy as np\n",
    "import cv2"
   ]
  },
  {
   "cell_type": "code",
   "execution_count": 2,
   "metadata": {},
   "outputs": [
    {
     "data": {
      "image/png": "[encoded data removed]",
      "text/plain": [
       "<Figure size 640x480 with 1 Axes>"
      ]
     },
     "metadata": {},
     "output_type": "display_data"
    }
   ],
   "source": [
    "def getThreshold(img):\n",
    "    if img.dtype != 'uint8':\n",
    "        img = np.array(img*255).astype('uint8')\n",
    "    \n",
    "    h,w = img.shape\n",
    "    hist, bins = histogram(img)\n",
    "#     print(len(hist), len(bins))\n",
    "    \n",
    "    th = round(np.sum(np.multiply(hist,bins)) / (h*w))\n",
    "    \n",
    "    th_high = round(np.sum(np.multiply(hist[bins>th],bins[bins>th])) / np.sum(hist[bins>th]))\n",
    "    th_low = round(np.sum(np.multiply(hist[bins<=th],bins[bins<=th])) / np.sum(hist[bins<=th]))\n",
    "    new_th = round((th_high+th_low)/2)\n",
    "    while new_th != th:\n",
    "#         print(th_high, th_low)\n",
    "        th = new_th\n",
    "        th_high = round(np.sum(np.multiply(hist[bins>th],bins[bins>th])) / np.sum(hist[bins>th]))\n",
    "        th_low = round(np.sum(np.multiply(hist[bins<=th],bins[bins<=th])) / np.sum(hist[bins<=th]))\n",
    "        new_th = round((th_high+th_low)/2)\n",
    "        \n",
    "#     print(th, new_th)\n",
    "    return th\n",
    "    \n",
    "camera = io.imread('cameraman.png')\n",
    "th = getThreshold(camera)\n",
    "camera[camera > th] = 255\n",
    "camera[camera <= th] = 0\n",
    "io.imshow(camera)\n",
    "io.show()"
   ]
  },
  {
   "cell_type": "code",
   "execution_count": 3,
   "metadata": {},
   "outputs": [],
   "source": [
    "def getImageWithHist(name,ext,nbins=256):\n",
    "    image = np.uint8(rgb2gray(io.imread(name + '.' + ext)[:,:,:2])*255)\n",
    "    H = np.zeros(nbins)\n",
    "    \n",
    "    m, n = image.shape\n",
    "    \n",
    "    H = np.histogram(image, 256, [0,255])\n",
    "    H_c = np.cumsum(H[0]) \n",
    "           \n",
    "    q = 255*np.array(H_c)/(m*n)\n",
    "    \n",
    "    edited_image = np.zeros(image.shape)\n",
    "    \n",
    "    edited_image[:, :] = q[image[:, :]]\n",
    "    show_images([image, edited_image], ['Before', 'After'])\n",
    "    return edited_image"
   ]
  },
  {
   "cell_type": "code",
   "execution_count": 4,
   "metadata": {},
   "outputs": [
    {
     "ename": "IndexError",
     "evalue": "too many indices for array: array is 2-dimensional, but 3 were indexed",
     "output_type": "error",
     "traceback": [
      "\u001b[0;31m---------------------------------------------------------------------------\u001b[0m",
      "\u001b[0;31mIndexError\u001b[0m                                Traceback (most recent call last)",
      "Cell \u001b[0;32mIn [4], line 3\u001b[0m\n\u001b[1;32m      1\u001b[0m img \u001b[38;5;241m=\u001b[39m io\u001b[38;5;241m.\u001b[39mimread(\u001b[38;5;124m'\u001b[39m\u001b[38;5;124mbook.png\u001b[39m\u001b[38;5;124m'\u001b[39m)\n\u001b[1;32m      2\u001b[0m th_global \u001b[38;5;241m=\u001b[39m img\u001b[38;5;241m.\u001b[39mcopy()\n\u001b[0;32m----> 3\u001b[0m \u001b[43mgetImageWithHist\u001b[49m\u001b[43m(\u001b[49m\u001b[38;5;124;43m'\u001b[39;49m\u001b[38;5;124;43mbook\u001b[39;49m\u001b[38;5;124;43m'\u001b[39;49m\u001b[43m,\u001b[49m\u001b[38;5;124;43m'\u001b[39;49m\u001b[38;5;124;43mpng\u001b[39;49m\u001b[38;5;124;43m'\u001b[39;49m\u001b[43m)\u001b[49m\n",
      "Cell \u001b[0;32mIn [3], line 2\u001b[0m, in \u001b[0;36mgetImageWithHist\u001b[0;34m(name, ext, nbins)\u001b[0m\n\u001b[1;32m      1\u001b[0m \u001b[38;5;28;01mdef\u001b[39;00m \u001b[38;5;21mgetImageWithHist\u001b[39m(name,ext,nbins\u001b[38;5;241m=\u001b[39m\u001b[38;5;241m256\u001b[39m):\n\u001b[0;32m----> 2\u001b[0m     image \u001b[38;5;241m=\u001b[39m np\u001b[38;5;241m.\u001b[39muint8(rgb2gray(\u001b[43mio\u001b[49m\u001b[38;5;241;43m.\u001b[39;49m\u001b[43mimread\u001b[49m\u001b[43m(\u001b[49m\u001b[43mname\u001b[49m\u001b[43m \u001b[49m\u001b[38;5;241;43m+\u001b[39;49m\u001b[43m \u001b[49m\u001b[38;5;124;43m'\u001b[39;49m\u001b[38;5;124;43m.\u001b[39;49m\u001b[38;5;124;43m'\u001b[39;49m\u001b[43m \u001b[49m\u001b[38;5;241;43m+\u001b[39;49m\u001b[43m \u001b[49m\u001b[43mext\u001b[49m\u001b[43m)\u001b[49m\u001b[43m[\u001b[49m\u001b[43m:\u001b[49m\u001b[43m,\u001b[49m\u001b[43m:\u001b[49m\u001b[43m,\u001b[49m\u001b[43m:\u001b[49m\u001b[38;5;241;43m3\u001b[39;49m\u001b[43m]\u001b[49m)\u001b[38;5;241m*\u001b[39m\u001b[38;5;241m255\u001b[39m)\n\u001b[1;32m      3\u001b[0m     H \u001b[38;5;241m=\u001b[39m np\u001b[38;5;241m.\u001b[39mzeros(nbins)\n\u001b[1;32m      5\u001b[0m     m, n \u001b[38;5;241m=\u001b[39m image\u001b[38;5;241m.\u001b[39mshape\n",
      "\u001b[0;31mIndexError\u001b[0m: too many indices for array: array is 2-dimensional, but 3 were indexed"
     ]
    }
   ],
   "source": [
    "img = io.imread('book.png')\n",
    "th_global = img.copy()\n",
    "getImageWithHist('book','png')\n",
    "# th = 100\n",
    "# th_global[th_global > th] = 255\n",
    "# th_global[th_global <= th] = 0\n",
    "\n",
    "# img_copy = img.copy()\n",
    "# nrows, ncols = img.shape\n",
    "# rsplit, csplit = nrows // 2, ncols // 2\n",
    "# quadrants = [\n",
    "#     img_copy[:rsplit, :csplit],\n",
    "#     img_copy[:rsplit, csplit:],\n",
    "#     img_copy[rsplit:, :csplit],\n",
    "#     img_copy[rsplit:, csplit:],\n",
    "# ]\n",
    "\n",
    "# fig, axes = plt.subplots(2, 2)\n",
    "# for quadrant, ax in zip(quadrants, axes.flat):\n",
    "#     ax.imshow(quadrant, cmap='gray')\n",
    "#     ax.set_axis_off()\n",
    "    \n",
    "# for quadrant in quadrants:\n",
    "#     th = getThreshold(quadrant)\n",
    "#     quadrant[quadrant > th] = 255\n",
    "#     quadrant[quadrant <= th] = 0\n",
    "# half1 = np.concatenate((quadrants[0], quadrants[2]))\n",
    "# half2 = np.concatenate((quadrants[1], quadrants[3]))\n",
    "# th_local = np.concatenate([half1, half2] , axis = 1)\n",
    "\n",
    "# show_images([img, th_global, th_local], ['Original', 'Global TH', 'Local TH'])"
   ]
  },
  {
   "cell_type": "code",
   "execution_count": null,
   "metadata": {},
   "outputs": [],
   "source": []
  }
 ],
 "metadata": {
  "kernelspec": {
   "display_name": "Python 3 (ipykernel)",
   "language": "python",
   "name": "python3"
  },
  "language_info": {
   "codemirror_mode": {
    "name": "ipython",
    "version": 3
   },
   "file_extension": ".py",
   "mimetype": "text/x-python",
   "name": "python",
   "nbconvert_exporter": "python",
   "pygments_lexer": "ipython3",
   "version": "3.9.2"
  }
 },
 "nbformat": 4,
 "nbformat_minor": 2
}
